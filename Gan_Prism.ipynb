{
  "nbformat": 4,
  "nbformat_minor": 0,
  "metadata": {
    "colab": {
      "provenance": [],
      "gpuType": "T4",
      "authorship_tag": "ABX9TyOBrCqQ7YV5+BY66gGJJqh4",
      "include_colab_link": true
    },
    "kernelspec": {
      "name": "python3",
      "display_name": "Python 3"
    },
    "language_info": {
      "name": "python"
    },
    "accelerator": "GPU"
  },
  "cells": [
    {
      "cell_type": "markdown",
      "metadata": {
        "id": "view-in-github",
        "colab_type": "text"
      },
      "source": [
        "<a href=\"https://colab.research.google.com/github/UshnishG/Prism/blob/main/Gan_Prism.ipynb\" target=\"_parent\"><img src=\"https://colab.research.google.com/assets/colab-badge.svg\" alt=\"Open In Colab\"/></a>"
      ]
    },
    {
      "cell_type": "markdown",
      "source": [
        "**`CTGAN For Tabular Generation Model Data`**"
      ],
      "metadata": {
        "id": "cZLVFq1UXlRH"
      }
    },
    {
      "cell_type": "code",
      "source": [
        "!pip install --upgrade sdv\n",
        "\n"
      ],
      "metadata": {
        "colab": {
          "base_uri": "https://localhost:8080/",
          "height": 1000
        },
        "id": "DcSW1JWyXlcl",
        "outputId": "6be49027-b786-490f-bc7a-42fdcb97b9f8"
      },
      "execution_count": 4,
      "outputs": [
        {
          "output_type": "stream",
          "name": "stdout",
          "text": [
            "Requirement already satisfied: sdv in /usr/local/lib/python3.10/dist-packages (1.3.0)\n",
            "Collecting sdv\n",
            "  Using cached sdv-1.17.2-py3-none-any.whl.metadata (13 kB)\n",
            "Requirement already satisfied: boto3<2.0.0,>=1.28 in /usr/local/lib/python3.10/dist-packages (from sdv) (1.35.66)\n",
            "Requirement already satisfied: botocore<2.0.0,>=1.31 in /usr/local/lib/python3.10/dist-packages (from sdv) (1.35.66)\n",
            "Requirement already satisfied: cloudpickle>=2.1.0 in /usr/local/lib/python3.10/dist-packages (from sdv) (2.2.1)\n",
            "Requirement already satisfied: graphviz>=0.13.2 in /usr/local/lib/python3.10/dist-packages (from sdv) (0.20.3)\n",
            "Requirement already satisfied: tqdm>=4.29 in /usr/local/lib/python3.10/dist-packages (from sdv) (4.66.6)\n",
            "Collecting copulas>=0.12.0 (from sdv)\n",
            "  Using cached copulas-0.12.0-py3-none-any.whl.metadata (9.1 kB)\n",
            "Collecting ctgan>=0.10.2 (from sdv)\n",
            "  Using cached ctgan-0.10.2-py3-none-any.whl.metadata (10 kB)\n",
            "Collecting deepecho>=0.6.1 (from sdv)\n",
            "  Using cached deepecho-0.6.1-py3-none-any.whl.metadata (10 kB)\n",
            "Collecting rdt>=1.13.1 (from sdv)\n",
            "  Using cached rdt-1.13.1-py3-none-any.whl.metadata (10 kB)\n",
            "Collecting sdmetrics>=0.17.0 (from sdv)\n",
            "  Using cached sdmetrics-0.17.0-py3-none-any.whl.metadata (8.7 kB)\n",
            "Requirement already satisfied: platformdirs>=4.0 in /usr/local/lib/python3.10/dist-packages (from sdv) (4.3.6)\n",
            "Requirement already satisfied: pyyaml>=6.0.1 in /usr/local/lib/python3.10/dist-packages (from sdv) (6.0.2)\n",
            "Requirement already satisfied: pandas>=1.4.0 in /usr/local/lib/python3.10/dist-packages (from sdv) (2.2.2)\n",
            "Requirement already satisfied: numpy>=1.23.3 in /usr/local/lib/python3.10/dist-packages (from sdv) (1.24.4)\n",
            "Requirement already satisfied: jmespath<2.0.0,>=0.7.1 in /usr/local/lib/python3.10/dist-packages (from boto3<2.0.0,>=1.28->sdv) (1.0.1)\n",
            "Requirement already satisfied: s3transfer<0.11.0,>=0.10.0 in /usr/local/lib/python3.10/dist-packages (from boto3<2.0.0,>=1.28->sdv) (0.10.4)\n",
            "Requirement already satisfied: python-dateutil<3.0.0,>=2.1 in /usr/local/lib/python3.10/dist-packages (from botocore<2.0.0,>=1.31->sdv) (2.8.2)\n",
            "Requirement already satisfied: urllib3!=2.2.0,<3,>=1.25.4 in /usr/local/lib/python3.10/dist-packages (from botocore<2.0.0,>=1.31->sdv) (2.2.3)\n",
            "Requirement already satisfied: plotly>=5.10.0 in /usr/local/lib/python3.10/dist-packages (from copulas>=0.12.0->sdv) (5.24.1)\n",
            "Requirement already satisfied: scipy>=1.9.2 in /usr/local/lib/python3.10/dist-packages (from copulas>=0.12.0->sdv) (1.13.1)\n",
            "Requirement already satisfied: torch>=1.11.0 in /usr/local/lib/python3.10/dist-packages (from ctgan>=0.10.2->sdv) (2.5.1+cu121)\n",
            "Requirement already satisfied: pytz>=2020.1 in /usr/local/lib/python3.10/dist-packages (from pandas>=1.4.0->sdv) (2024.2)\n",
            "Requirement already satisfied: tzdata>=2022.7 in /usr/local/lib/python3.10/dist-packages (from pandas>=1.4.0->sdv) (2024.2)\n",
            "Collecting Faker>=17 (from rdt>=1.13.1->sdv)\n",
            "  Using cached Faker-33.0.0-py3-none-any.whl.metadata (15 kB)\n",
            "Requirement already satisfied: scikit-learn>=1.1.0 in /usr/local/lib/python3.10/dist-packages (from rdt>=1.13.1->sdv) (1.5.2)\n",
            "Requirement already satisfied: typing-extensions in /usr/local/lib/python3.10/dist-packages (from Faker>=17->rdt>=1.13.1->sdv) (4.12.2)\n",
            "Requirement already satisfied: tenacity>=6.2.0 in /usr/local/lib/python3.10/dist-packages (from plotly>=5.10.0->copulas>=0.12.0->sdv) (9.0.0)\n",
            "Requirement already satisfied: packaging in /usr/local/lib/python3.10/dist-packages (from plotly>=5.10.0->copulas>=0.12.0->sdv) (24.2)\n",
            "Requirement already satisfied: six>=1.5 in /usr/local/lib/python3.10/dist-packages (from python-dateutil<3.0.0,>=2.1->botocore<2.0.0,>=1.31->sdv) (1.16.0)\n",
            "Requirement already satisfied: joblib>=1.2.0 in /usr/local/lib/python3.10/dist-packages (from scikit-learn>=1.1.0->rdt>=1.13.1->sdv) (1.4.2)\n",
            "Requirement already satisfied: threadpoolctl>=3.1.0 in /usr/local/lib/python3.10/dist-packages (from scikit-learn>=1.1.0->rdt>=1.13.1->sdv) (3.5.0)\n",
            "Requirement already satisfied: filelock in /usr/local/lib/python3.10/dist-packages (from torch>=1.11.0->ctgan>=0.10.2->sdv) (3.16.1)\n",
            "Requirement already satisfied: networkx in /usr/local/lib/python3.10/dist-packages (from torch>=1.11.0->ctgan>=0.10.2->sdv) (3.4.2)\n",
            "Requirement already satisfied: jinja2 in /usr/local/lib/python3.10/dist-packages (from torch>=1.11.0->ctgan>=0.10.2->sdv) (3.1.4)\n",
            "Requirement already satisfied: fsspec in /usr/local/lib/python3.10/dist-packages (from torch>=1.11.0->ctgan>=0.10.2->sdv) (2024.10.0)\n",
            "Requirement already satisfied: sympy==1.13.1 in /usr/local/lib/python3.10/dist-packages (from torch>=1.11.0->ctgan>=0.10.2->sdv) (1.13.1)\n",
            "Requirement already satisfied: mpmath<1.4,>=1.1.0 in /usr/local/lib/python3.10/dist-packages (from sympy==1.13.1->torch>=1.11.0->ctgan>=0.10.2->sdv) (1.3.0)\n",
            "Requirement already satisfied: MarkupSafe>=2.0 in /usr/local/lib/python3.10/dist-packages (from jinja2->torch>=1.11.0->ctgan>=0.10.2->sdv) (3.0.2)\n",
            "Using cached sdv-1.17.2-py3-none-any.whl (154 kB)\n",
            "Using cached copulas-0.12.0-py3-none-any.whl (52 kB)\n",
            "Using cached ctgan-0.10.2-py3-none-any.whl (23 kB)\n",
            "Using cached deepecho-0.6.1-py3-none-any.whl (27 kB)\n",
            "Using cached rdt-1.13.1-py3-none-any.whl (66 kB)\n",
            "Using cached sdmetrics-0.17.0-py3-none-any.whl (174 kB)\n",
            "Using cached Faker-33.0.0-py3-none-any.whl (1.9 MB)\n",
            "Installing collected packages: Faker, rdt, deepecho, copulas, sdmetrics, ctgan, sdv\n",
            "  Attempting uninstall: Faker\n",
            "    Found existing installation: Faker 14.2.1\n",
            "    Uninstalling Faker-14.2.1:\n",
            "      Successfully uninstalled Faker-14.2.1\n",
            "  Attempting uninstall: rdt\n",
            "    Found existing installation: rdt 1.7.0\n",
            "    Uninstalling rdt-1.7.0:\n",
            "      Successfully uninstalled rdt-1.7.0\n",
            "  Attempting uninstall: deepecho\n",
            "    Found existing installation: deepecho 0.4.2\n",
            "    Uninstalling deepecho-0.4.2:\n",
            "      Successfully uninstalled deepecho-0.4.2\n",
            "  Attempting uninstall: copulas\n",
            "    Found existing installation: copulas 0.9.2\n",
            "    Uninstalling copulas-0.9.2:\n",
            "      Successfully uninstalled copulas-0.9.2\n",
            "  Attempting uninstall: sdmetrics\n",
            "    Found existing installation: sdmetrics 0.11.1\n",
            "    Uninstalling sdmetrics-0.11.1:\n",
            "      Successfully uninstalled sdmetrics-0.11.1\n",
            "  Attempting uninstall: ctgan\n",
            "    Found existing installation: ctgan 0.7.5\n",
            "    Uninstalling ctgan-0.7.5:\n",
            "      Successfully uninstalled ctgan-0.7.5\n",
            "  Attempting uninstall: sdv\n",
            "    Found existing installation: sdv 1.3.0\n",
            "    Uninstalling sdv-1.3.0:\n",
            "      Successfully uninstalled sdv-1.3.0\n",
            "Successfully installed Faker-33.0.0 copulas-0.12.0 ctgan-0.10.2 deepecho-0.6.1 rdt-1.13.1 sdmetrics-0.17.0 sdv-1.17.2\n"
          ]
        },
        {
          "output_type": "display_data",
          "data": {
            "application/vnd.colab-display-data+json": {
              "pip_warning": {
                "packages": [
                  "copulas",
                  "ctgan",
                  "deepecho",
                  "faker",
                  "rdt",
                  "sdmetrics",
                  "sdv"
                ]
              },
              "id": "e752bcf72e694a28be9c042a83428007"
            }
          },
          "metadata": {}
        }
      ]
    },
    {
      "cell_type": "markdown",
      "source": [
        "`CREATE A DATASET SAMPLE`"
      ],
      "metadata": {
        "id": "fWMx67QCYOYG"
      }
    },
    {
      "cell_type": "code",
      "source": [
        "import pandas as pd\n",
        "\n",
        "# Sample training data for a \"network elements template\"\n",
        "data = {\n",
        "    \"Device Name\": [\"Router-01\", \"Switch-01\", \"Firewall-01\"],\n",
        "    \"Device Type\": [\"Router\", \"Switch\", \"Firewall\"],\n",
        "    \"Vendor\": [\"Cisco\", \"Juniper\", \"Palo Alto\"],\n",
        "    \"Model Number\": [\"XR1000\", \"EX4200\", \"PA-850\"],\n",
        "    \"Serial Number\": [\"12345ABC\", \"67890DEF\", \"11223GHI\"],\n",
        "    \"Operating System Version\": [\"v12.1.3\", \"v14.2.1\", \"v8.5.6\"],\n",
        "    \"IP Address\": [\"192.168.1.1\", \"192.168.1.2\", \"192.168.1.3\"],\n",
        "    \"MAC Address\": [\"00:1B:44:11:3A:B7\", \"00:1B:44:11:3A:B8\", \"00:1B:44:11:3A:B9\"],\n",
        "    \"Location\": [\"Data Center A, Rack 12\", \"Data Center B, Rack 5\", \"Data Center C, Rack 8\"]\n",
        "}\n",
        "\n",
        "# Convert to a pandas DataFrame\n",
        "df = pd.DataFrame(data)\n",
        "\n",
        "# Display the dataset\n",
        "print(df)\n"
      ],
      "metadata": {
        "colab": {
          "base_uri": "https://localhost:8080/"
        },
        "id": "zuw67WP8X0hJ",
        "outputId": "aac1c86a-00f4-44ee-ddb9-deeb8da2d200"
      },
      "execution_count": 1,
      "outputs": [
        {
          "output_type": "stream",
          "name": "stdout",
          "text": [
            "   Device Name Device Type     Vendor Model Number Serial Number  \\\n",
            "0    Router-01      Router      Cisco       XR1000      12345ABC   \n",
            "1    Switch-01      Switch    Juniper       EX4200      67890DEF   \n",
            "2  Firewall-01    Firewall  Palo Alto       PA-850      11223GHI   \n",
            "\n",
            "  Operating System Version   IP Address        MAC Address  \\\n",
            "0                  v12.1.3  192.168.1.1  00:1B:44:11:3A:B7   \n",
            "1                  v14.2.1  192.168.1.2  00:1B:44:11:3A:B8   \n",
            "2                   v8.5.6  192.168.1.3  00:1B:44:11:3A:B9   \n",
            "\n",
            "                 Location  \n",
            "0  Data Center A, Rack 12  \n",
            "1   Data Center B, Rack 5  \n",
            "2   Data Center C, Rack 8  \n"
          ]
        }
      ]
    },
    {
      "cell_type": "markdown",
      "source": [
        "`Create a Metadata for CTGANSynthesizer`"
      ],
      "metadata": {
        "id": "b1xrRXg0cU8u"
      }
    },
    {
      "cell_type": "code",
      "source": [
        "from sdv.metadata.single_table import SingleTableMetadata\n",
        "\n",
        "# Initialize metadata\n",
        "metadata = SingleTableMetadata()\n",
        "\n",
        "\n",
        "\n",
        "# Add fields to metadata\n",
        "metadata.detect_from_dataframe(data=df)\n",
        "metadata.update_column(\n",
        "    column_name=\"IP Address\",\n",
        "    sdtype=\"id\"\n",
        ")\n",
        "\n",
        "\n",
        "# Display the detected metadata\n",
        "metadata.visualize()\n"
      ],
      "metadata": {
        "colab": {
          "base_uri": "https://localhost:8080/",
          "height": 255
        },
        "id": "sE85OOHpZ--R",
        "outputId": "5ba21303-fb2f-4fad-d1b9-12b76d376b46"
      },
      "execution_count": 9,
      "outputs": [
        {
          "output_type": "execute_result",
          "data": {
            "image/svg+xml": "<?xml version=\"1.0\" encoding=\"UTF-8\" standalone=\"no\"?>\n<!DOCTYPE svg PUBLIC \"-//W3C//DTD SVG 1.1//EN\"\n \"http://www.w3.org/Graphics/SVG/1.1/DTD/svg11.dtd\">\n<!-- Generated by graphviz version 2.43.0 (0)\n -->\n<!-- Title: Metadata Pages: 1 -->\n<svg width=\"238pt\" height=\"175pt\"\n viewBox=\"0.00 0.00 238.00 175.00\" xmlns=\"http://www.w3.org/2000/svg\" xmlns:xlink=\"http://www.w3.org/1999/xlink\">\n<g id=\"graph0\" class=\"graph\" transform=\"scale(1 1) rotate(0) translate(4 171)\">\n<title>Metadata</title>\n<polygon fill=\"white\" stroke=\"transparent\" points=\"-4,4 -4,-171 234,-171 234,4 -4,4\"/>\n<g id=\"node1\" class=\"node\">\n<title></title>\n<path fill=\"#ffec8b\" stroke=\"black\" d=\"M12,-0.5C12,-0.5 218,-0.5 218,-0.5 224,-0.5 230,-6.5 230,-12.5 230,-12.5 230,-154.5 230,-154.5 230,-160.5 224,-166.5 218,-166.5 218,-166.5 12,-166.5 12,-166.5 6,-166.5 0,-160.5 0,-154.5 0,-154.5 0,-12.5 0,-12.5 0,-6.5 6,-0.5 12,-0.5\"/>\n<text text-anchor=\"start\" x=\"8\" y=\"-151.3\" font-family=\"Times,serif\" font-size=\"14.00\">Device Name : categorical</text>\n<text text-anchor=\"start\" x=\"8\" y=\"-136.3\" font-family=\"Times,serif\" font-size=\"14.00\">Device Type : categorical</text>\n<text text-anchor=\"start\" x=\"8\" y=\"-121.3\" font-family=\"Times,serif\" font-size=\"14.00\">Vendor : categorical</text>\n<text text-anchor=\"start\" x=\"8\" y=\"-106.3\" font-family=\"Times,serif\" font-size=\"14.00\">Model Number : categorical</text>\n<text text-anchor=\"start\" x=\"8\" y=\"-91.3\" font-family=\"Times,serif\" font-size=\"14.00\">Serial Number : categorical</text>\n<text text-anchor=\"start\" x=\"8\" y=\"-76.3\" font-family=\"Times,serif\" font-size=\"14.00\">Operating System Version : categorical</text>\n<text text-anchor=\"start\" x=\"8\" y=\"-61.3\" font-family=\"Times,serif\" font-size=\"14.00\">IP Address : id</text>\n<text text-anchor=\"start\" x=\"8\" y=\"-46.3\" font-family=\"Times,serif\" font-size=\"14.00\">MAC Address : mac_address</text>\n<text text-anchor=\"start\" x=\"8\" y=\"-31.3\" font-family=\"Times,serif\" font-size=\"14.00\">Location : categorical</text>\n<polyline fill=\"none\" stroke=\"black\" points=\"0,-23.5 230,-23.5 \"/>\n<text text-anchor=\"start\" x=\"8\" y=\"-8.3\" font-family=\"Times,serif\" font-size=\"14.00\">Primary key: IP Address</text>\n</g>\n</g>\n</svg>\n",
            "text/plain": [
              "<graphviz.graphs.Digraph at 0x7a50de3261d0>"
            ]
          },
          "metadata": {},
          "execution_count": 9
        }
      ]
    },
    {
      "cell_type": "markdown",
      "source": [
        "`TRAIN DATASET using CTGAN`"
      ],
      "metadata": {
        "id": "J7AqNq0HYIkP"
      }
    },
    {
      "cell_type": "code",
      "source": [
        "from sdv.single_table import CTGANSynthesizer\n",
        "\n",
        "# Initialize CTGAN Synthesizer with metadata\n",
        "synthesizer = CTGANSynthesizer(metadata=metadata)\n",
        "\n",
        "\n",
        "# Fit the synthesizer on the dataset\n",
        "synthesizer.fit(df)\n",
        "\n",
        "# Generate synthetic data\n",
        "synthetic_data = synthesizer.sample(100)\n",
        "# Save synthetic data as a CSV file\n",
        "synthetic_data.to_csv(\"synthetic_network_elements.csv\", index=False)\n",
        "\n",
        "print(\"Synthetic data saved as 'synthetic_network_elements.csv'\")\n",
        "\n",
        "\n",
        "# Display synthetic data\n",
        "print(synthetic_data)\n"
      ],
      "metadata": {
        "colab": {
          "base_uri": "https://localhost:8080/"
        },
        "id": "s_aTI7EiYIub",
        "outputId": "a54e4686-70be-427e-bc51-d53c1d90bbbe"
      },
      "execution_count": 11,
      "outputs": [
        {
          "output_type": "stream",
          "name": "stderr",
          "text": [
            "/usr/local/lib/python3.10/dist-packages/sdv/single_table/base.py:119: FutureWarning: The 'SingleTableMetadata' is deprecated. Please use the new 'Metadata' class for synthesizers.\n",
            "  warnings.warn(DEPRECATION_MSG, FutureWarning)\n"
          ]
        },
        {
          "output_type": "stream",
          "name": "stdout",
          "text": [
            "Synthetic data saved as 'synthetic_network_elements.csv'\n",
            "    Device Name Device Type     Vendor Model Number Serial Number  \\\n",
            "0   Firewall-01    Firewall    Juniper       PA-850      11223GHI   \n",
            "1     Router-01      Router    Juniper       EX4200      67890DEF   \n",
            "2   Firewall-01      Switch      Cisco       EX4200      11223GHI   \n",
            "3     Switch-01    Firewall      Cisco       PA-850      12345ABC   \n",
            "4     Switch-01      Switch    Juniper       EX4200      67890DEF   \n",
            "..          ...         ...        ...          ...           ...   \n",
            "95  Firewall-01    Firewall    Juniper       PA-850      67890DEF   \n",
            "96    Switch-01      Router    Juniper       EX4200      67890DEF   \n",
            "97    Switch-01    Firewall    Juniper       EX4200      11223GHI   \n",
            "98    Router-01      Switch  Palo Alto       PA-850      67890DEF   \n",
            "99    Router-01      Router      Cisco       EX4200      67890DEF   \n",
            "\n",
            "   Operating System Version     IP Address        MAC Address  \\\n",
            "0                   v14.2.1  sdv-id-GveVZN  90:1f:b8:7a:92:be   \n",
            "1                   v14.2.1  sdv-id-pLdpLO  e6:99:c9:98:9d:fb   \n",
            "2                   v14.2.1  sdv-id-dLcoGh  60:45:27:7d:84:18   \n",
            "3                   v14.2.1  sdv-id-IIouWE  04:a4:e8:25:ef:71   \n",
            "4                   v12.1.3  sdv-id-KeIIvN  da:72:6f:43:36:86   \n",
            "..                      ...            ...                ...   \n",
            "95                   v8.5.6  sdv-id-xsXuQq  68:99:03:f3:bd:00   \n",
            "96                   v8.5.6  sdv-id-balwiV  ac:07:48:46:86:05   \n",
            "97                  v14.2.1  sdv-id-eLlLro  e0:db:1f:4d:d7:90   \n",
            "98                  v12.1.3  sdv-id-fSlIJh  c8:fc:83:cc:c9:e0   \n",
            "99                  v14.2.1  sdv-id-qMZBKs  62:55:c0:04:ea:bd   \n",
            "\n",
            "                  Location  \n",
            "0    Data Center C, Rack 8  \n",
            "1    Data Center B, Rack 5  \n",
            "2   Data Center A, Rack 12  \n",
            "3    Data Center C, Rack 8  \n",
            "4    Data Center B, Rack 5  \n",
            "..                     ...  \n",
            "95   Data Center B, Rack 5  \n",
            "96  Data Center A, Rack 12  \n",
            "97   Data Center B, Rack 5  \n",
            "98   Data Center C, Rack 8  \n",
            "99   Data Center B, Rack 5  \n",
            "\n",
            "[100 rows x 9 columns]\n"
          ]
        }
      ]
    }
  ]
}